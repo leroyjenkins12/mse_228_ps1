{
 "cells": [
  {
   "cell_type": "markdown",
   "metadata": {},
   "source": [
    "# Assignment 1"
   ]
  },
  {
   "cell_type": "code",
   "execution_count": 666,
   "metadata": {},
   "outputs": [
    {
     "name": "stderr",
     "output_type": "stream",
     "text": [
      "\n",
      "[notice] A new release of pip is available: 23.2.1 -> 23.3.2\n",
      "[notice] To update, run: python.exe -m pip install --upgrade pip\n"
     ]
    }
   ],
   "source": [
    "# #probl\n",
    "# import sys\n",
    "# !{sys.executable} -m pip install --user numpy --quiet\n",
    "# !{sys.executable} -m pip install --user pandas --quiet\n",
    "# !{sys.executable} -m pip install --user statsmodels --quiet\n",
    "!{sys.executable} -m pip install --user scikit-learn --quiet"
   ]
  },
  {
   "cell_type": "code",
   "execution_count": 656,
   "metadata": {},
   "outputs": [],
   "source": [
    "import numpy as np\n",
    "import pandas as pd\n",
    "import statsmodels.formula.api as smf\n",
    "import statsmodels.api as sm"
   ]
  },
  {
   "cell_type": "markdown",
   "metadata": {},
   "source": [
    "**Part A** \n",
    "\n",
    "In my process (below), data is generated for arrays Y1 and Y0 out of a normal distribution centered around 2 and 1, respectively. Because the Y1 values are all, or nearly all, greater than Y0, this introduces some bias. The two means estimates is not recovering the true ATE because of this \"selection bias\". Similarly, the confidence interval largely does not cover the true ATE because of this selection bias for which population to apply the treatment to.\n",
    "\n",
    "A real world example of this is measuring the effect of people running everyday to their life expectancy. If the treatment group runs everyday day, there may be additional factors like diet or not smoking that would also affect life expectency."
   ]
  },
  {
   "cell_type": "code",
   "execution_count": 688,
   "metadata": {},
   "outputs": [],
   "source": [
    "def data_gen(n):\n",
    "    p = 0.25\n",
    "    # Z = np.random.normal(size = n, loc = 1)\n",
    "    # generate average treatment array Y1\n",
    "    Y1 =  np.random.normal(size=n, loc = 2, scale = 0.2)\n",
    "    # generate average baseline array Y0\n",
    "    Y0 = np.random.normal(size=n, loc = 1, scale = 0.2)\n",
    "    # generating random binary treatment array with probability 0.25\n",
    "    D = np.random.binomial(1, p, size=n)  \n",
    "    # observed Y generated from [(treated * binary treatment array) + (baseline * inverse of binary tratment array)] + covariate\n",
    "    Y = Y1 * 10 * D + Y0 * (1 - D)\n",
    "    # demean covariates? \n",
    "    df = pd.DataFrame({\"Y\": Y, \"D\": D})\n",
    "    return (df)\n",
    "\n",
    "\n"
   ]
  },
  {
   "cell_type": "markdown",
   "metadata": {},
   "source": [
    "**Part B**\n"
   ]
  },
  {
   "cell_type": "code",
   "execution_count": 690,
   "metadata": {},
   "outputs": [
    {
     "name": "stdout",
     "output_type": "stream",
     "text": [
      "The two means estimate for n = 1000 is: 19.137395468481937\n",
      "The true ATE is 19\n",
      "The confidence interval is [19.109124578617163, 19.165666358346712]\n"
     ]
    }
   ],
   "source": [
    "def estimation(n):\n",
    "    df = data_gen(n)\n",
    "\n",
    "    mean_treat = df[df['D'] == 1]['Y'].mean()\n",
    "    mean_base = df[df['D'] == 0]['Y'].mean()\n",
    "    ate = mean_treat - mean_base\n",
    "                        \n",
    "    var_treatment = df[df['D'] == 1]['Y'].var()\n",
    "    var_base = var_treatment = df[df['D'] == 0]['Y'].var()\n",
    "\n",
    "    v0 = var_base / (1 - df['D'].mean())\n",
    "    v1 = var_treatment / df['D'].mean()\n",
    "    se = np.sqrt((v0 + v1) / n)\n",
    "\n",
    "    true_ate = 19\n",
    "\n",
    "    return ate, true_ate, se\n",
    "\n",
    "ate, true_ate, se = estimation(1000)\n",
    "print(f\"The two means estimate for n = 1000 is: {ate}\")\n",
    "print(f\"The true ATE is {true_ate}\")\n",
    "print(f\"The confidence interval is [{ate - 1.96 * se}, {ate + 1.96 * se}]\")"
   ]
  },
  {
   "cell_type": "code",
   "execution_count": 701,
   "metadata": {},
   "outputs": [
    {
     "name": "stdout",
     "output_type": "stream",
     "text": [
      "0.19\n",
      "-0.005340311127482629\n"
     ]
    },
    {
     "data": {
      "text/plain": [
       "0.12618331051771953"
      ]
     },
     "execution_count": 701,
     "metadata": {},
     "output_type": "execute_result"
    }
   ],
   "source": [
    "coverage_count = 0\n",
    "running_bias = 0\n",
    "sd_tme = []\n",
    "for i in range(0, 100):\n",
    "    ate, true_ate, se = estimation(1000)\n",
    "    lower_bound = ate - 1.96 * se\n",
    "    upper_bound = ate + 1.96 * se\n",
    "    if (lower_bound < true_ate < upper_bound):\n",
    "        coverage_count +=1\n",
    "    running_bias += (ate - true_ate)\n",
    "    sd_tme.append(ate)\n",
    "\n",
    "\n",
    "print(coverage_count / 100) # Coverage\n",
    "print(running_bias / 100) # Average bias\n",
    "np.sqrt(np.var(sd_tme)) #Standard deviation of 2 means estimate\n",
    "\n"
   ]
  },
  {
   "cell_type": "markdown",
   "metadata": {},
   "source": [
    "# Assignment 2"
   ]
  },
  {
   "cell_type": "markdown",
   "metadata": {},
   "source": [
    "**Part A**"
   ]
  },
  {
   "cell_type": "code",
   "execution_count": 657,
   "metadata": {},
   "outputs": [
    {
     "name": "stdout",
     "output_type": "stream",
     "text": [
      "Overall vaccine efficacy for 16-17 is 0.4786\n",
      "Approximate 95% confidence interval of VE for 16-17: [-14.2481, 0.9822]\n",
      "Overall vaccine efficacy for 18-64 is 0.9459\n",
      "Approximate 95% confidence interval of VE for 18-64: [0.8898, 0.9734]\n"
     ]
    }
   ],
   "source": [
    "#16-17\n",
    "NV = 58;\n",
    "NU = 61;\n",
    "RV = 0/NV;\n",
    "RU = 1/NU;\n",
    "VE = (RU - RV)/RU;\n",
    "\n",
    "\n",
    "tb = sm.stats.Table2x2([[0, NV - 0], [1, NU - 1]])\n",
    "tb.summary()\n",
    "\n",
    "\n",
    "print(f\"Overall vaccine efficacy for 16-17 is {1 - tb.riskratio:.4f}\")\n",
    "lb, ub = tb.riskratio_confint(alpha=.05)\n",
    "print(f\"Approximate 95% confidence interval of VE for 16-17: [{1 - ub:.4f}, {1 - lb:.4f}]\")\n",
    "\n",
    "#18-64\n",
    "NV = 14443;\n",
    "NU = 14566;\n",
    "RV = 8/NV;\n",
    "RU = 149/NU;\n",
    "VE = (RU - RV)/RU;\n",
    "\n",
    "\n",
    "tb = sm.stats.Table2x2([[8, NV - 8], [149, NU - 149]])\n",
    "tb.summary()\n",
    "\n",
    "\n",
    "print(f\"Overall vaccine efficacy for 18-64 is {1 - tb.riskratio:.4f}\")\n",
    "lb, ub = tb.riskratio_confint(alpha=.05)\n",
    "print(f\"Approximate 95% confidence interval of VE for 18-64: [{1 - ub:.4f}, {1 - lb:.4f}]\")"
   ]
  },
  {
   "cell_type": "markdown",
   "metadata": {},
   "source": [
    "The efficacy for 16-17 is not recovered (0.48 vs the reported 1.00), likely due to the relatively low number of samples. However, the 18-64 group in the code is 0.9459 compared to the CDC's 0.946."
   ]
  },
  {
   "cell_type": "markdown",
   "metadata": {},
   "source": [
    "**Part B**"
   ]
  },
  {
   "cell_type": "code",
   "execution_count": 658,
   "metadata": {},
   "outputs": [
    {
     "name": "stdout",
     "output_type": "stream",
     "text": [
      "Vaccine Efficacy estimate is 1.0000\n",
      "95% confidence interval using the delta method is [1.0000, 1.0000]\n",
      "Vaccine Efficacy estimate is 0.9459\n",
      "95% confidence interval using the delta method is [-40.4607, 42.3524]\n"
     ]
    }
   ],
   "source": [
    "#16-17\n",
    "NV = 58;\n",
    "NU = 61;\n",
    "RV = 0/NV; #Expectation of Vaccinated Group (Theta_1)\n",
    "RU = 1/NU; #Expectation of Unvaccinated Group (Theta_0)\n",
    "VE = (RU - RV)/RU;\n",
    "\n",
    "\n",
    "V11 = RU * (1 - RU) / NU #Variance of Unvaccinated Group\n",
    "V22 = RV * (1- RV) / NV #Variance of Vaccinated Group\n",
    "\n",
    "\n",
    "RV_sqrd = RV**2;\n",
    "RU_sqrd = RU**2;\n",
    "RU_frth = RU**4;\n",
    "\n",
    "\n",
    "delta_var = (RV_sqrd * V11)/RU_frth + (V22/RU_sqrd) #Variance via the delta method\n",
    "delta_se = np.sqrt(delta_var) #Standard Error via the delta method\n",
    "\n",
    "\n",
    "delta_ci = [VE - 1.96*delta_se, VE + 1.96*delta_se]\n",
    "\n",
    "\n",
    "print(f\"Vaccine Efficacy estimate is {VE:.4f}\")\n",
    "print(f\"95% confidence interval using the delta method is [{delta_ci[0]:.4f}, {delta_ci[1]:.4f}]\")\n",
    "###18-64\n",
    "NV = 14443\n",
    "NU = 14566\n",
    "RV = 8/NV; #Expectation of Vaccinated Group (Theta_1) \n",
    "RU = 149/NU; #Expectation of Unvaccinated Group (Theta_0) \n",
    "VE = (RU - RV)/RU;\n",
    "\n",
    "\n",
    "V11 = RU * (1 - RU) / NU #Variance of Unvaccinated Group \n",
    "V22 = RV * (1- RV) / NV #Variance of Vaccinated Group \n",
    "RV_sqrd = RV**2; \n",
    "RU_sqrd = RU**2; \n",
    "RU_frth = RU**4; \n",
    "\n",
    "\n",
    "delta_var = (RV_sqrd * V11)/RU_frth + (V22/RU_sqrd) #Variance via the delta method\n",
    "delta_var = (mean_con**2 * var_base)/mean_base**4 + (var_treatment/mean_base**2)\n",
    "delta_se = np.sqrt(delta_var) #Standard Error via the delta method\n",
    "\n",
    "\n",
    "delta_ci = [VE - 1.96*delta_se, VE + 1.96*delta_se]\n",
    "\n",
    "\n",
    "print(f\"Vaccine Efficacy estimate is {VE:.4f}\")\n",
    "print(f\"95% confidence interval using the delta method is [{delta_ci[0]:.4f}, {delta_ci[1]:.4f}]\")"
   ]
  },
  {
   "cell_type": "markdown",
   "metadata": {},
   "source": [
    "The delta method was implemented from the formula on lecture 2 slide 23. The formula came from the normal distribution where the mean is 0 and the variance is given by the sum of the two fractions. The first fraction is the product of the vaccinated probability squared times the variance of the placebo group and then divided by the placebo probability to the power of four. That fraction is added to the variance of vaccinated divided by placebo probability of infection squared.\n",
    "\n",
    "The standard error is the square root of that given variance described above."
   ]
  },
  {
   "cell_type": "markdown",
   "metadata": {},
   "source": [
    "# Problem 3\n"
   ]
  },
  {
   "cell_type": "code",
   "execution_count": 686,
   "metadata": {},
   "outputs": [
    {
     "name": "stderr",
     "output_type": "stream",
     "text": [
      "C:\\Users\\nthnj\\AppData\\Local\\Temp\\ipykernel_38412\\3346323124.py:10: FutureWarning: The 'delim_whitespace' keyword in pd.read_csv is deprecated and will be removed in a future version. Use ``sep='\\s+'`` instead\n",
      "  data = pd.read_csv(\"https://raw.githubusercontent.com/VC2015/DMLonGitHub/master/penn_jae.dat\", delim_whitespace=True)\n",
      "C:\\Users\\nthnj\\AppData\\Roaming\\Python\\Python312\\site-packages\\statsmodels\\base\\model.py:1896: ValueWarning: covariance of constraints does not have full rank. The number of constraints is 119, but rank is 102\n",
      "  warnings.warn('covariance of constraints does not have full '\n",
      "C:\\Users\\nthnj\\AppData\\Roaming\\Python\\Python312\\site-packages\\statsmodels\\base\\model.py:1896: ValueWarning: covariance of constraints does not have full rank. The number of constraints is 120, but rank is 103\n",
      "  warnings.warn('covariance of constraints does not have full '\n",
      "C:\\Users\\nthnj\\AppData\\Roaming\\Python\\Python312\\site-packages\\statsmodels\\base\\model.py:1896: ValueWarning: covariance of constraints does not have full rank. The number of constraints is 241, but rank is 1\n",
      "  warnings.warn('covariance of constraints does not have full '\n",
      "C:\\Users\\nthnj\\AppData\\Local\\Temp\\ipykernel_38412\\3346323124.py:70: FutureWarning: Series.__getitem__ treating keys as positions is deprecated. In a future version, integer keys will always be treated as labels (consistent with DataFrame behavior). To access a value by position, use `ser.iloc[pos]`\n",
      "  \"CL\": [cl_results.params[cl.exog_names.index(\"T4\")],\n",
      "C:\\Users\\nthnj\\AppData\\Local\\Temp\\ipykernel_38412\\3346323124.py:71: FutureWarning: Series.__getitem__ treating keys as positions is deprecated. In a future version, integer keys will always be treated as labels (consistent with DataFrame behavior). To access a value by position, use `ser.iloc[pos]`\n",
      "  cl_results.HC1_se[cl.exog_names.index(\"T4\")]],\n",
      "C:\\Users\\nthnj\\AppData\\Local\\Temp\\ipykernel_38412\\3346323124.py:72: FutureWarning: Series.__getitem__ treating keys as positions is deprecated. In a future version, integer keys will always be treated as labels (consistent with DataFrame behavior). To access a value by position, use `ser.iloc[pos]`\n",
      "  \"CRA\": [cra_results.params[cra.exog_names.index(\"T4\")],\n",
      "C:\\Users\\nthnj\\AppData\\Local\\Temp\\ipykernel_38412\\3346323124.py:73: FutureWarning: Series.__getitem__ treating keys as positions is deprecated. In a future version, integer keys will always be treated as labels (consistent with DataFrame behavior). To access a value by position, use `ser.iloc[pos]`\n",
      "  cra_results.HC1_se[cra.exog_names.index(\"T4\")]],\n",
      "C:\\Users\\nthnj\\AppData\\Local\\Temp\\ipykernel_38412\\3346323124.py:74: FutureWarning: Series.__getitem__ treating keys as positions is deprecated. In a future version, integer keys will always be treated as labels (consistent with DataFrame behavior). To access a value by position, use `ser.iloc[pos]`\n",
      "  \"IRA\": [ira_results.params[ira.exog_names.index(\"T4\")],\n",
      "C:\\Users\\nthnj\\AppData\\Local\\Temp\\ipykernel_38412\\3346323124.py:75: FutureWarning: Series.__getitem__ treating keys as positions is deprecated. In a future version, integer keys will always be treated as labels (consistent with DataFrame behavior). To access a value by position, use `ser.iloc[pos]`\n",
      "  ira_results.HC1_se[ira.exog_names.index(\"T4\")]],\n",
      "C:\\Users\\nthnj\\AppData\\Local\\Temp\\ipykernel_38412\\3346323124.py:76: FutureWarning: Series.__getitem__ treating keys as positions is deprecated. In a future version, integer keys will always be treated as labels (consistent with DataFrame behavior). To access a value by position, use `ser.iloc[pos]`\n",
      "  \"IRA w Lasso\": [ira_lasso_results.params[0],\n",
      "C:\\Users\\nthnj\\AppData\\Local\\Temp\\ipykernel_38412\\3346323124.py:77: FutureWarning: Series.__getitem__ treating keys as positions is deprecated. In a future version, integer keys will always be treated as labels (consistent with DataFrame behavior). To access a value by position, use `ser.iloc[pos]`\n",
      "  ira_lasso_results.bse[0]],\n"
     ]
    },
    {
     "data": {
      "text/html": [
       "<div>\n",
       "<style scoped>\n",
       "    .dataframe tbody tr th:only-of-type {\n",
       "        vertical-align: middle;\n",
       "    }\n",
       "\n",
       "    .dataframe tbody tr th {\n",
       "        vertical-align: top;\n",
       "    }\n",
       "\n",
       "    .dataframe thead th {\n",
       "        text-align: right;\n",
       "    }\n",
       "</style>\n",
       "<table border=\"1\" class=\"dataframe\">\n",
       "  <thead>\n",
       "    <tr style=\"text-align: right;\">\n",
       "      <th></th>\n",
       "      <th>CL</th>\n",
       "      <th>CRA</th>\n",
       "      <th>IRA</th>\n",
       "      <th>IRA w Lasso</th>\n",
       "    </tr>\n",
       "  </thead>\n",
       "  <tbody>\n",
       "    <tr>\n",
       "      <th>Estimate</th>\n",
       "      <td>-0.085455</td>\n",
       "      <td>-0.079680</td>\n",
       "      <td>347276.374040</td>\n",
       "      <td>-0.078782</td>\n",
       "    </tr>\n",
       "    <tr>\n",
       "      <th>Standard Error</th>\n",
       "      <td>0.035856</td>\n",
       "      <td>0.035591</td>\n",
       "      <td>359569.173314</td>\n",
       "      <td>0.034886</td>\n",
       "    </tr>\n",
       "  </tbody>\n",
       "</table>\n",
       "</div>"
      ],
      "text/plain": [
       "                      CL       CRA            IRA  IRA w Lasso\n",
       "Estimate       -0.085455 -0.079680  347276.374040    -0.078782\n",
       "Standard Error  0.035856  0.035591  359569.173314     0.034886"
      ]
     },
     "execution_count": 686,
     "metadata": {},
     "output_type": "execute_result"
    }
   ],
   "source": [
    "for name in dir():\n",
    "    if not name.startswith('_'):\n",
    "        del globals()[name]\n",
    "import numpy as np\n",
    "import pandas as pd\n",
    "import statsmodels.formula.api as smf\n",
    "import statsmodels.api as sm\n",
    "import patsy\n",
    "\n",
    "data = pd.read_csv(\"https://raw.githubusercontent.com/VC2015/DMLonGitHub/master/penn_jae.dat\", delim_whitespace=True)\n",
    "n, p = data.shape\n",
    "data = data[data[\"tg\"].isin([0, 4])]\n",
    "\n",
    "data[\"T4\"] = np.where(data[\"tg\"] == 4, 1, 0)\n",
    "data[\"T4\"].value_counts()\n",
    "\n",
    "covariate_balance = smf.ols(\"T4~(female+black+othrace+C(dep)+q2+q3+q4+q5+q6+agelt35+agegt54+durable+lusd+husd)**2\",\n",
    "                           data)\n",
    "covariate_balance.fit(cov_type=\"HC1\").summary()\n",
    "\n",
    "# no adjustment (2-sample approach)\n",
    "cl = smf.ols(\"np.log(inuidur1) ~ T4\", data)\n",
    "\n",
    "\n",
    "# adding controls\n",
    "cra = smf.ols(\"np.log(inuidur1) ~ T4 + (female+black+othrace+C(dep)+q2+q3+q4+q5+q6+agelt35+agegt54+durable+lusd+husd)**2\",\n",
    "             data)\n",
    "# Omitted dummies: q1, nondurable, muld\n",
    "\n",
    "\n",
    "cl_results = cl.fit(cov_type=\"HC1\")\n",
    "cl_results.summary()\n",
    "\n",
    "cra_results = cra.fit(cov_type=\"HC1\")\n",
    "cra_results.summary()\n",
    "\n",
    "\n",
    "#interactive regression model\n",
    "\n",
    "ira_formula = \"0 + (female+black+othrace+C(dep)+q2+q3+q4+q5+q6+agelt35+agegt54+durable+lusd+husd)**2\"\n",
    "X = patsy.dmatrix(ira_formula, data, return_type='dataframe')\n",
    "X.columns = [f'x{t}' for t in range(X.shape[1])] # clean column names\n",
    "X = (X - X.mean(axis=0)) # demean all control covariates\n",
    "\n",
    "# construct interactions of treatment and (de-meaned covariates, 1)\n",
    "ira_formula = \"T4 * (\"+ \"+\".join(X.columns) + \")\"\n",
    "X['T4'] = data['T4']\n",
    "X = patsy.dmatrix(ira_formula, X, return_type='dataframe')\n",
    "ira = sm.OLS(np.log(data[[\"inuidur1\"]]), X)\n",
    "ira_results = ira.fit(cov_type=\"HC1\")\n",
    "ira_results.summary()\n",
    "\n",
    "\n",
    "from sklearn.linear_model import LassoCV\n",
    "\n",
    "\n",
    "D = X['T4']\n",
    "A = X.drop('T4', axis=1) # contains X and interaction terms D*X\n",
    "y = np.log(data[\"inuidur1\"])\n",
    "\n",
    "\n",
    "Dres = D - np.mean(D)\n",
    "yres = y - LassoCV(max_iter=10000).fit(A, y).predict(A)\n",
    "\n",
    "\n",
    "ira_lasso_results = sm.OLS(yres, Dres).fit(cov_type='HC1')\n",
    "ira_lasso_results.summary()\n",
    "\n",
    "results = {\n",
    "    \"CL\": [cl_results.params[cl.exog_names.index(\"T4\")],\n",
    "           cl_results.HC1_se[cl.exog_names.index(\"T4\")]],\n",
    "    \"CRA\": [cra_results.params[cra.exog_names.index(\"T4\")],\n",
    "           cra_results.HC1_se[cra.exog_names.index(\"T4\")]],\n",
    "    \"IRA\": [ira_results.params[ira.exog_names.index(\"T4\")],\n",
    "           ira_results.HC1_se[ira.exog_names.index(\"T4\")]],\n",
    "    \"IRA w Lasso\": [ira_lasso_results.params[0],\n",
    "           ira_lasso_results.bse[0]],\n",
    "}\n",
    "results = pd.DataFrame(results)\n",
    "results.index = [\"Estimate\", \"Standard Error\"]\n",
    "results\n",
    "# for printing to LaTeX: print(results.to_latex())\n"
   ]
  },
  {
   "cell_type": "markdown",
   "metadata": {},
   "source": [
    "Note* I have no idea why my IRA results came out like this. I copied the cells exactly multiple times. At least its consistent across the board."
   ]
  },
  {
   "cell_type": "code",
   "execution_count": 671,
   "metadata": {},
   "outputs": [
    {
     "name": "stderr",
     "output_type": "stream",
     "text": [
      "C:\\Users\\nthnj\\AppData\\Roaming\\Python\\Python312\\site-packages\\statsmodels\\base\\model.py:1896: ValueWarning: covariance of constraints does not have full rank. The number of constraints is 129, but rank is 106\n",
      "  warnings.warn('covariance of constraints does not have full '\n",
      "C:\\Users\\nthnj\\AppData\\Roaming\\Python\\Python312\\site-packages\\statsmodels\\base\\model.py:1896: ValueWarning: covariance of constraints does not have full rank. The number of constraints is 130, but rank is 107\n",
      "  warnings.warn('covariance of constraints does not have full '\n",
      "C:\\Users\\nthnj\\AppData\\Roaming\\Python\\Python312\\site-packages\\statsmodels\\base\\model.py:1896: ValueWarning: covariance of constraints does not have full rank. The number of constraints is 261, but rank is 1\n",
      "  warnings.warn('covariance of constraints does not have full '\n",
      "C:\\Users\\nthnj\\AppData\\Local\\Temp\\ipykernel_38412\\2993639710.py:52: FutureWarning: Series.__getitem__ treating keys as positions is deprecated. In a future version, integer keys will always be treated as labels (consistent with DataFrame behavior). To access a value by position, use `ser.iloc[pos]`\n",
      "  \"CL_New\": [cl_new_results.params[cl_new.exog_names.index(\"T4\")],\n",
      "C:\\Users\\nthnj\\AppData\\Local\\Temp\\ipykernel_38412\\2993639710.py:53: FutureWarning: Series.__getitem__ treating keys as positions is deprecated. In a future version, integer keys will always be treated as labels (consistent with DataFrame behavior). To access a value by position, use `ser.iloc[pos]`\n",
      "  cl_new_results.HC1_se[cl_new.exog_names.index(\"T4\")]],\n",
      "C:\\Users\\nthnj\\AppData\\Local\\Temp\\ipykernel_38412\\2993639710.py:54: FutureWarning: Series.__getitem__ treating keys as positions is deprecated. In a future version, integer keys will always be treated as labels (consistent with DataFrame behavior). To access a value by position, use `ser.iloc[pos]`\n",
      "  \"CRA_New\": [cra_new_results.params[cra_new.exog_names.index(\"T4\")],\n",
      "C:\\Users\\nthnj\\AppData\\Local\\Temp\\ipykernel_38412\\2993639710.py:55: FutureWarning: Series.__getitem__ treating keys as positions is deprecated. In a future version, integer keys will always be treated as labels (consistent with DataFrame behavior). To access a value by position, use `ser.iloc[pos]`\n",
      "  cra_new_results.HC1_se[cra_new.exog_names.index(\"T4\")]],\n",
      "C:\\Users\\nthnj\\AppData\\Local\\Temp\\ipykernel_38412\\2993639710.py:56: FutureWarning: Series.__getitem__ treating keys as positions is deprecated. In a future version, integer keys will always be treated as labels (consistent with DataFrame behavior). To access a value by position, use `ser.iloc[pos]`\n",
      "  \"IRA_New\": [ira_new_results.params[ira_new.exog_names.index(\"T4\")],\n",
      "C:\\Users\\nthnj\\AppData\\Local\\Temp\\ipykernel_38412\\2993639710.py:57: FutureWarning: Series.__getitem__ treating keys as positions is deprecated. In a future version, integer keys will always be treated as labels (consistent with DataFrame behavior). To access a value by position, use `ser.iloc[pos]`\n",
      "  ira_new_results.HC1_se[ira_new.exog_names.index(\"T4\")]],\n",
      "C:\\Users\\nthnj\\AppData\\Local\\Temp\\ipykernel_38412\\2993639710.py:58: FutureWarning: Series.__getitem__ treating keys as positions is deprecated. In a future version, integer keys will always be treated as labels (consistent with DataFrame behavior). To access a value by position, use `ser.iloc[pos]`\n",
      "  \"IRA w Lasso New\": [ira_lasso_new_results.params[0],\n",
      "C:\\Users\\nthnj\\AppData\\Local\\Temp\\ipykernel_38412\\2993639710.py:59: FutureWarning: Series.__getitem__ treating keys as positions is deprecated. In a future version, integer keys will always be treated as labels (consistent with DataFrame behavior). To access a value by position, use `ser.iloc[pos]`\n",
      "  ira_lasso_new_results.bse[0]],\n"
     ]
    },
    {
     "data": {
      "text/html": [
       "<div>\n",
       "<style scoped>\n",
       "    .dataframe tbody tr th:only-of-type {\n",
       "        vertical-align: middle;\n",
       "    }\n",
       "\n",
       "    .dataframe tbody tr th {\n",
       "        vertical-align: top;\n",
       "    }\n",
       "\n",
       "    .dataframe thead th {\n",
       "        text-align: right;\n",
       "    }\n",
       "</style>\n",
       "<table border=\"1\" class=\"dataframe\">\n",
       "  <thead>\n",
       "    <tr style=\"text-align: right;\">\n",
       "      <th></th>\n",
       "      <th>CL</th>\n",
       "      <th>CRA</th>\n",
       "      <th>IRA</th>\n",
       "      <th>IRA w Lasso</th>\n",
       "    </tr>\n",
       "  </thead>\n",
       "  <tbody>\n",
       "    <tr>\n",
       "      <th>Estimate</th>\n",
       "      <td>-0.085455</td>\n",
       "      <td>-0.079680</td>\n",
       "      <td>347276.374040</td>\n",
       "      <td>-0.078782</td>\n",
       "    </tr>\n",
       "    <tr>\n",
       "      <th>Standard Error</th>\n",
       "      <td>0.035856</td>\n",
       "      <td>0.035591</td>\n",
       "      <td>359569.173314</td>\n",
       "      <td>0.034886</td>\n",
       "    </tr>\n",
       "  </tbody>\n",
       "</table>\n",
       "</div>"
      ],
      "text/plain": [
       "                      CL       CRA            IRA  IRA w Lasso\n",
       "Estimate       -0.085455 -0.079680  347276.374040    -0.078782\n",
       "Standard Error  0.035856  0.035591  359569.173314     0.034886"
      ]
     },
     "execution_count": 671,
     "metadata": {},
     "output_type": "execute_result"
    }
   ],
   "source": [
    "covariate_balance = smf.ols(\"T4~(female+black+othrace+C(dep)+q2+q3+q4+q5+q6+agelt35+agegt54+durable+lusd+husd)**2 + (female+black+othrace+agelt35+agegt54)**3\",\n",
    "                           data)\n",
    "### Three way interactions: (female+black+othrace+agelt35+agegt54)**3\n",
    "\n",
    "\n",
    "covariate_balance.fit(cov_type=\"HC1\").summary()\n",
    "\n",
    "cl_new = smf.ols(\"np.log(inuidur1) ~ T4\", data)\n",
    "\n",
    "\n",
    "# adding controls\n",
    "cra_new = smf.ols(\"np.log(inuidur1) ~ T4 + (female+black+othrace+C(dep)+q2+q3+q4+q5+q6+agelt35+agegt54+durable+lusd+husd)**2 + (female+black+othrace+agelt35+agegt54)**3\",\n",
    "             data)\n",
    "# Omitted dummies: q1, nondurable, muld\n",
    "\n",
    "\n",
    "cl_new_results = cl_new.fit(cov_type=\"HC1\")\n",
    "cl_new_results.summary()\n",
    "\n",
    "cra_new_results = cra_new.fit(cov_type=\"HC1\")\n",
    "cra_new_results.summary()\n",
    "\n",
    "#interactive regression model\n",
    "\n",
    "\n",
    "ira_formula_new = \"0 + (female+black+othrace+C(dep)+q2+q3+q4+q5+q6+agelt35+agegt54+durable+lusd+husd)**2 + (female+black+othrace+agelt35+agegt54)**3\"\n",
    "X = patsy.dmatrix(ira_formula_new, data, return_type='dataframe')\n",
    "X.columns = [f'x{t}' for t in range(X.shape[1])] # clean column names\n",
    "X = (X - X.mean(axis=0)) # demean all control covariates\n",
    "\n",
    "\n",
    "# construct interactions of treatment and (de-meaned covariates, 1)\n",
    "ira_formula_new = \"T4 * (\"+ \"+\".join(X.columns) + \")\"\n",
    "X['T4'] = data['T4']\n",
    "X = patsy.dmatrix(ira_formula_new, X, return_type='dataframe')\n",
    "ira_new = sm.OLS(np.log(data[[\"inuidur1\"]]), X)\n",
    "ira_new_results = ira_new.fit(cov_type=\"HC1\")\n",
    "ira_new_results.summary()\n",
    "\n",
    "D = X['T4']\n",
    "A = X.drop('T4', axis=1) # contains X and interaction terms D*X\n",
    "y = np.log(data[\"inuidur1\"])\n",
    "\n",
    "\n",
    "Dres = D - np.mean(D)\n",
    "yres = y - LassoCV(max_iter=10000).fit(A, y).predict(A)\n",
    "\n",
    "\n",
    "ira_lasso_new_results = sm.OLS(yres, Dres).fit(cov_type='HC1')\n",
    "ira_lasso_new_results.summary()\n",
    "results_new = {\n",
    "   \"CL_New\": [cl_new_results.params[cl_new.exog_names.index(\"T4\")],\n",
    "          cl_new_results.HC1_se[cl_new.exog_names.index(\"T4\")]],\n",
    "   \"CRA_New\": [cra_new_results.params[cra_new.exog_names.index(\"T4\")],\n",
    "          cra_new_results.HC1_se[cra_new.exog_names.index(\"T4\")]],\n",
    "   \"IRA_New\": [ira_new_results.params[ira_new.exog_names.index(\"T4\")],\n",
    "          ira_new_results.HC1_se[ira_new.exog_names.index(\"T4\")]],\n",
    "   \"IRA w Lasso New\": [ira_lasso_new_results.params[0],\n",
    "          ira_lasso_new_results.bse[0]],\n",
    "}\n",
    "results_new = pd.DataFrame(results_new)\n",
    "results_new.index = [\"Estimate\", \"Standard Error\"]\n",
    "results_new\n",
    "# for printing to LaTeX: print(results.to_latex())\n",
    "\n",
    "###Original Model Results\n",
    "results\n",
    "\n"
   ]
  },
  {
   "cell_type": "markdown",
   "metadata": {},
   "source": [
    "**Part B**"
   ]
  },
  {
   "cell_type": "code",
   "execution_count": 677,
   "metadata": {},
   "outputs": [
    {
     "name": "stderr",
     "output_type": "stream",
     "text": [
      "C:\\Users\\nthnj\\AppData\\Local\\Temp\\ipykernel_38412\\3657216273.py:54: FutureWarning: Series.__getitem__ treating keys as positions is deprecated. In a future version, integer keys will always be treated as labels (consistent with DataFrame behavior). To access a value by position, use `ser.iloc[pos]`\n",
      "  \"CL_New_Non_Robust_SE\": [cl_new_nr_results.params[cl_new_nr.exog_names.index(\"T4\")],\n",
      "C:\\Users\\nthnj\\AppData\\Local\\Temp\\ipykernel_38412\\3657216273.py:55: FutureWarning: Series.__getitem__ treating keys as positions is deprecated. In a future version, integer keys will always be treated as labels (consistent with DataFrame behavior). To access a value by position, use `ser.iloc[pos]`\n",
      "  cl_new_nr_results.bse[cl_new_nr.exog_names.index(\"T4\")]],\n",
      "C:\\Users\\nthnj\\AppData\\Local\\Temp\\ipykernel_38412\\3657216273.py:56: FutureWarning: Series.__getitem__ treating keys as positions is deprecated. In a future version, integer keys will always be treated as labels (consistent with DataFrame behavior). To access a value by position, use `ser.iloc[pos]`\n",
      "  \"CRA_New_Non_Robust_SE\": [cra_new_nr_results.params[cra_new_nr.exog_names.index(\"T4\")],\n",
      "C:\\Users\\nthnj\\AppData\\Local\\Temp\\ipykernel_38412\\3657216273.py:57: FutureWarning: Series.__getitem__ treating keys as positions is deprecated. In a future version, integer keys will always be treated as labels (consistent with DataFrame behavior). To access a value by position, use `ser.iloc[pos]`\n",
      "  cra_new_nr_results.bse[cra_new_nr.exog_names.index(\"T4\")]],\n",
      "C:\\Users\\nthnj\\AppData\\Local\\Temp\\ipykernel_38412\\3657216273.py:58: FutureWarning: Series.__getitem__ treating keys as positions is deprecated. In a future version, integer keys will always be treated as labels (consistent with DataFrame behavior). To access a value by position, use `ser.iloc[pos]`\n",
      "  \"IRA_New_Non_Robust_SE\": [ira_new_nr_results.params[ira_new_nr.exog_names.index(\"T4\")],\n",
      "C:\\Users\\nthnj\\AppData\\Local\\Temp\\ipykernel_38412\\3657216273.py:59: FutureWarning: Series.__getitem__ treating keys as positions is deprecated. In a future version, integer keys will always be treated as labels (consistent with DataFrame behavior). To access a value by position, use `ser.iloc[pos]`\n",
      "  ira_new_nr_results.bse[ira_new_nr.exog_names.index(\"T4\")]],\n",
      "C:\\Users\\nthnj\\AppData\\Local\\Temp\\ipykernel_38412\\3657216273.py:60: FutureWarning: Series.__getitem__ treating keys as positions is deprecated. In a future version, integer keys will always be treated as labels (consistent with DataFrame behavior). To access a value by position, use `ser.iloc[pos]`\n",
      "  \"IRA w Lasso New_Non_Robust_SE\": [ira_lasso_new_nr_results.params[0],\n",
      "C:\\Users\\nthnj\\AppData\\Local\\Temp\\ipykernel_38412\\3657216273.py:61: FutureWarning: Series.__getitem__ treating keys as positions is deprecated. In a future version, integer keys will always be treated as labels (consistent with DataFrame behavior). To access a value by position, use `ser.iloc[pos]`\n",
      "  ira_lasso_new_nr_results.bse[0]],\n"
     ]
    },
    {
     "data": {
      "text/html": [
       "<div>\n",
       "<style scoped>\n",
       "    .dataframe tbody tr th:only-of-type {\n",
       "        vertical-align: middle;\n",
       "    }\n",
       "\n",
       "    .dataframe tbody tr th {\n",
       "        vertical-align: top;\n",
       "    }\n",
       "\n",
       "    .dataframe thead th {\n",
       "        text-align: right;\n",
       "    }\n",
       "</style>\n",
       "<table border=\"1\" class=\"dataframe\">\n",
       "  <thead>\n",
       "    <tr style=\"text-align: right;\">\n",
       "      <th></th>\n",
       "      <th>CL_New</th>\n",
       "      <th>CRA_New</th>\n",
       "      <th>IRA_New</th>\n",
       "      <th>IRA w Lasso New</th>\n",
       "    </tr>\n",
       "  </thead>\n",
       "  <tbody>\n",
       "    <tr>\n",
       "      <th>Estimate</th>\n",
       "      <td>-0.085455</td>\n",
       "      <td>-0.078807</td>\n",
       "      <td>-337259.281584</td>\n",
       "      <td>-0.078824</td>\n",
       "    </tr>\n",
       "    <tr>\n",
       "      <th>Standard Error</th>\n",
       "      <td>0.035856</td>\n",
       "      <td>0.035617</td>\n",
       "      <td>348599.847134</td>\n",
       "      <td>0.034910</td>\n",
       "    </tr>\n",
       "  </tbody>\n",
       "</table>\n",
       "</div>"
      ],
      "text/plain": [
       "                  CL_New   CRA_New        IRA_New  IRA w Lasso New\n",
       "Estimate       -0.085455 -0.078807 -337259.281584        -0.078824\n",
       "Standard Error  0.035856  0.035617  348599.847134         0.034910"
      ]
     },
     "execution_count": 677,
     "metadata": {},
     "output_type": "execute_result"
    }
   ],
   "source": [
    "covariate_balance = smf.ols(\"T4~(female+black+othrace+C(dep)+q2+q3+q4+q5+q6+agelt35+agegt54+durable+lusd+husd)**2 + (female+black+othrace+agelt35+agegt54)**3\",\n",
    "                           data)\n",
    "### Three way interactions: (female+black+othrace+agelt35+agegt54)**3\n",
    "\n",
    "\n",
    "covariate_balance.fit().summary() #cov_type=nonrobust\n",
    "\n",
    "# no adjustment (2-sample approach)\n",
    "cl_new_nr = smf.ols(\"np.log(inuidur1) ~ T4\", data)\n",
    "\n",
    "\n",
    "# adding controls\n",
    "cra_new_nr = smf.ols(\"np.log(inuidur1) ~ T4 + (female+black+othrace+C(dep)+q2+q3+q4+q5+q6+agelt35+agegt54+durable+lusd+husd)**2 + (female+black+othrace+agelt35+agegt54)**3\",\n",
    "             data)\n",
    "# Omitted dummies: q1, nondurable, muld\n",
    "\n",
    "\n",
    "cl_new_nr_results = cl_new_nr.fit() #cov_type=nonrobust\n",
    "cl_new_nr_results.summary()\n",
    "\n",
    "cra_new_nr_results = cra_new_nr.fit() #cov_type=nonrobust\n",
    "cra_new_nr_results.summary()\n",
    "\n",
    "#interactive regression model\n",
    "\n",
    "\n",
    "ira_formula_new = \"0 + (female+black+othrace+C(dep)+q2+q3+q4+q5+q6+agelt35+agegt54+durable+lusd+husd)**2 + (female+black+othrace+agelt35+agegt54)**3\"\n",
    "X = patsy.dmatrix(ira_formula_new, data, return_type='dataframe')\n",
    "X.columns = [f'x{t}' for t in range(X.shape[1])] # clean column names\n",
    "X = (X - X.mean(axis=0)) # demean all control covariates\n",
    "\n",
    "\n",
    "# construct interactions of treatment and (de-meaned covariates, 1)\n",
    "ira_formula_new = \"T4 * (\"+ \"+\".join(X.columns) + \")\"\n",
    "X['T4'] = data['T4']\n",
    "X = patsy.dmatrix(ira_formula_new, X, return_type='dataframe')\n",
    "ira_new_nr = sm.OLS(np.log(data[[\"inuidur1\"]]), X)\n",
    "ira_new_nr_results = ira_new_nr.fit() #cov_type=nonrobust\n",
    "ira_new_nr_results.summary()\n",
    "\n",
    "D = X['T4']\n",
    "A = X.drop('T4', axis=1) # contains X and interaction terms D*X\n",
    "y = np.log(data[\"inuidur1\"])\n",
    "\n",
    "\n",
    "Dres = D - np.mean(D)\n",
    "yres = y - LassoCV(max_iter=10000).fit(A, y).predict(A)\n",
    "\n",
    "\n",
    "ira_lasso_new_nr_results = sm.OLS(yres, Dres).fit() #cov_type=None\n",
    "ira_lasso_new_nr_results.summary()\n",
    "\n",
    "results_new_nr = {\n",
    "   \"CL_New_Non_Robust_SE\": [cl_new_nr_results.params[cl_new_nr.exog_names.index(\"T4\")],\n",
    "          cl_new_nr_results.bse[cl_new_nr.exog_names.index(\"T4\")]],\n",
    "   \"CRA_New_Non_Robust_SE\": [cra_new_nr_results.params[cra_new_nr.exog_names.index(\"T4\")],\n",
    "          cra_new_nr_results.bse[cra_new_nr.exog_names.index(\"T4\")]],\n",
    "   \"IRA_New_Non_Robust_SE\": [ira_new_nr_results.params[ira_new_nr.exog_names.index(\"T4\")],\n",
    "          ira_new_nr_results.bse[ira_new_nr.exog_names.index(\"T4\")]],\n",
    "   \"IRA w Lasso New_Non_Robust_SE\": [ira_lasso_new_nr_results.params[0],\n",
    "          ira_lasso_new_nr_results.bse[0]],\n",
    "}\n",
    "results_new_nr = pd.DataFrame(results_new_nr)\n",
    "results_new_nr.index = [\"Estimate\", \"Non-Robust Standard Error\"]\n",
    "results_new_nr\n",
    "# for printing to LaTeX: print(results.to_latex())\n",
    "\n",
    "###New Model Results w/ cov_type=HC1\n",
    "results_new\n"
   ]
  },
  {
   "cell_type": "markdown",
   "metadata": {},
   "source": [
    "The CRA and IRA w/Lasso standard error are the only difference errors and they are relatively negligible in their differences. Because the robust and non-robust errors are essentially the same, we can assume the data is homoskedastic in the set. "
   ]
  },
  {
   "cell_type": "markdown",
   "metadata": {},
   "source": [
    "# Problem 4\n"
   ]
  },
  {
   "cell_type": "markdown",
   "metadata": {},
   "source": [
    "**Part A**\n",
    "\n",
    "|          |      |\n",
    "|----------|------|\n",
    "| **CL**   | 0.106|\n",
    "| **CRA**  | 0.138|\n",
    "| **IRA**  | 0.08 |\n",
    "\n",
    "\n",
    "Adjusting for covariates without interaction terms reduced precision (as seen with the increase in SE under CL v. CRA) whereas adjusting for covariates with interaction terms did improve precision (as seen with the change for IRA v. CRA)"
   ]
  },
  {
   "cell_type": "markdown",
   "metadata": {},
   "source": [
    "**Part B**\n",
    "|          |      |\n",
    "|----------|------|\n",
    "| CL  | 0.113 |\n",
    "| CRA | 0.098 |\n",
    "| IRA | 0.078 |\n",
    "\n",
    "\n",
    "\n",
    "The difference arrizes from the np.random.normal function in the data generation process, which takes from the normal distribution to create y0, y1, and the covariate z. Because z adds or subtracts from the baseline or treatment, it creates heteroskedacisty in the set due to the sums of the outlying values bringing some variables further outside of the normal distribution. This would increase the variation in the values and thus the heteroskedacisty.\n",
    "\n"
   ]
  },
  {
   "cell_type": "markdown",
   "metadata": {},
   "source": [
    "**Part C**"
   ]
  },
  {
   "cell_type": "markdown",
   "metadata": {},
   "source": [
    "|          |  Precision Adjustment  |   Non-Robust  |\n",
    "|----------|------|------|\n",
    "| CL  | 0.087 | 0.087  |\n",
    "| CRA | 0.087 | 0.087   |\n",
    "| IRA | 0.061 | 0.061|\n",
    "\n",
    "\n"
   ]
  },
  {
   "cell_type": "markdown",
   "metadata": {},
   "source": [
    "Adjusting the probability to 0.5 made the data homoskedastic, therefore adjusting between robust and non-robust makes no difference."
   ]
  },
  {
   "cell_type": "markdown",
   "metadata": {},
   "source": [
    "**Part D**\n",
    "Below"
   ]
  }
 ],
 "metadata": {
  "kernelspec": {
   "display_name": "Python 3",
   "language": "python",
   "name": "python3"
  },
  "language_info": {
   "codemirror_mode": {
    "name": "ipython",
    "version": 3
   },
   "file_extension": ".py",
   "mimetype": "text/x-python",
   "name": "python",
   "nbconvert_exporter": "python",
   "pygments_lexer": "ipython3",
   "version": "3.12.1"
  }
 },
 "nbformat": 4,
 "nbformat_minor": 2
}
